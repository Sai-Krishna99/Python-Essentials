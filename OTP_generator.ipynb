{
  "nbformat": 4,
  "nbformat_minor": 0,
  "metadata": {
    "colab": {
      "name": "OTP_generator.ipynb",
      "provenance": [],
      "authorship_tag": "ABX9TyP4iz1dTpfhR5vfVI/VCK2L",
      "include_colab_link": true
    },
    "kernelspec": {
      "name": "python3",
      "display_name": "Python 3"
    },
    "language_info": {
      "name": "python"
    }
  },
  "cells": [
    {
      "cell_type": "markdown",
      "metadata": {
        "id": "view-in-github",
        "colab_type": "text"
      },
      "source": [
        "<a href=\"https://colab.research.google.com/github/Sai-Krishna99/Python-Essentials/blob/main/OTP_generator.ipynb\" target=\"_parent\"><img src=\"https://colab.research.google.com/assets/colab-badge.svg\" alt=\"Open In Colab\"/></a>"
      ]
    },
    {
      "cell_type": "code",
      "metadata": {
        "colab": {
          "base_uri": "https://localhost:8080/"
        },
        "id": "JSNQFunHpiKK",
        "outputId": "29419d00-22e2-4bdc-b4d9-4adc02e8103f"
      },
      "source": [
        "# OTP generator\n",
        "import string as st\n",
        "import random as ran\n",
        "len = 6\n",
        "otp = ''\n",
        "ch = st.ascii_letters + st.digits\n",
        "\n",
        "for i in range(len):\n",
        "  otp = otp + ran.choice(ch)\n",
        "\n",
        "print(\"OTP: \", otp)"
      ],
      "execution_count": 4,
      "outputs": [
        {
          "output_type": "stream",
          "text": [
            "OTP:  hhLEdf\n"
          ],
          "name": "stdout"
        }
      ]
    },
    {
      "cell_type": "code",
      "metadata": {
        "id": "3tLBrLSpw9X5"
      },
      "source": [
        ""
      ],
      "execution_count": null,
      "outputs": []
    }
  ]
}