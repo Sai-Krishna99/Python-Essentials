#method 1 to take 2 inputs: length as well as list
a=[]
for i in range(int(input("length of list="))):
  ele=int(input())
  a.append(ele)
a.sort(reverse=True)
print(a)

#alternative for having single line input
#b= [int(i) for i in input("numbers=").split()]
#b.sort(reverse=True)
#print(b)
