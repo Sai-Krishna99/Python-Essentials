#Day 1
#Take input for a list and sort it in descending order.
li= [int(i) for i in input("numbers=").split()]
li.sort(reverse=True)
print(li)
