{
  "nbformat": 4,
  "nbformat_minor": 0,
  "metadata": {
    "colab": {
      "name": "Celsius_to_F.ipynb",
      "provenance": [],
      "authorship_tag": "ABX9TyOhpcFmfTzGt7A+kC4rnbb0",
      "include_colab_link": true
    },
    "kernelspec": {
      "name": "python3",
      "display_name": "Python 3"
    },
    "language_info": {
      "name": "python"
    }
  },
  "cells": [
    {
      "cell_type": "markdown",
      "metadata": {
        "id": "view-in-github",
        "colab_type": "text"
      },
      "source": [
        "<a href=\"https://colab.research.google.com/github/Sai-Krishna99/Python-Essentials/blob/main/Celsius_to_Farenheit.ipynb\" target=\"_parent\"><img src=\"https://colab.research.google.com/assets/colab-badge.svg\" alt=\"Open In Colab\"/></a>"
      ]
    },
    {
      "cell_type": "markdown",
      "metadata": {
        "id": "huuwPiNffy6F"
      },
      "source": [
        "Celsius to Farenheit convertor"
      ]
    },
    {
      "cell_type": "code",
      "metadata": {
        "colab": {
          "base_uri": "https://localhost:8080/"
        },
        "id": "2TRdEOMVfwv-",
        "outputId": "f1b22c79-58b4-4373-d61a-59952b136f3e"
      },
      "source": [
        "temp = int(input(\"Celsius value to be converted: \"))\n",
        "result = int(round((9 * temp) / 5 + 32))\n",
        "print(\"The Farenheit value is: \",result,\"F\")"
      ],
      "execution_count": 2,
      "outputs": [
        {
          "output_type": "stream",
          "text": [
            "Celsius value to be converted: 32\n",
            "The Farenheit value is:  90 F\n"
          ],
          "name": "stdout"
        }
      ]
    },
    {
      "cell_type": "markdown",
      "metadata": {
        "id": "BoUpXdLmkgOy"
      },
      "source": [
        "Alternative method to get one degree form to another"
      ]
    },
    {
      "cell_type": "code",
      "metadata": {
        "colab": {
          "base_uri": "https://localhost:8080/"
        },
        "id": "PwX2eOyZg7O-",
        "outputId": "1f9f3949-f9c4-4b71-e811-c1ec43999382"
      },
      "source": [
        "temp = input(\"Temperature to be converted?(e.g. 45F, 102C etc.) : \")\n",
        "temp_val = int(temp[:-1])\n",
        "ip_format = temp[-1]\n",
        "\n",
        "if ip_format.upper() == \"C\":\n",
        "  result = int(round((9 * temp_val) / 5 + 32))\n",
        "  op_format = \"Fahrenheit\"\n",
        "elif ip_format.upper() == \"F\":\n",
        "  result = int(round((temp_val - 32) * 5 / 9))\n",
        "  op_format = \"Celsius\"\n",
        "else:\n",
        "  print(\"Input proper convention.\")\n",
        "  quit()\n",
        "print(\"Temperature in\", op_format, \"is\", result, \"degrees.\")"
      ],
      "execution_count": 4,
      "outputs": [
        {
          "output_type": "stream",
          "text": [
            "Input the  temperature you like to convert? (e.g., 45F, 102C etc.) : 45C\n",
            "The temperature in Fahrenheit is 113 degrees.\n"
          ],
          "name": "stdout"
        }
      ]
    },
    {
      "cell_type": "code",
      "metadata": {
        "id": "cF3PRN47jzw1"
      },
      "source": [
        ""
      ],
      "execution_count": null,
      "outputs": []
    }
  ]
}