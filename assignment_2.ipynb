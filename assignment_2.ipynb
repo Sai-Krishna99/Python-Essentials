{
  "nbformat": 4,
  "nbformat_minor": 0,
  "metadata": {
    "colab": {
      "name": "assignment_2.ipynb",
      "provenance": [],
      "collapsed_sections": [],
      "authorship_tag": "ABX9TyM9HuX9UV4e+Egy6BNtQCIl",
      "include_colab_link": true
    },
    "kernelspec": {
      "name": "python3",
      "display_name": "Python 3"
    },
    "language_info": {
      "name": "python"
    }
  },
  "cells": [
    {
      "cell_type": "markdown",
      "metadata": {
        "id": "view-in-github",
        "colab_type": "text"
      },
      "source": [
        "<a href=\"https://colab.research.google.com/github/Sai-Krishna99/Python-Essentials/blob/main/assignment_2.ipynb\" target=\"_parent\"><img src=\"https://colab.research.google.com/assets/colab-badge.svg\" alt=\"Open In Colab\"/></a>"
      ]
    },
    {
      "cell_type": "markdown",
      "metadata": {
        "id": "Ye7kS7SvbCe3"
      },
      "source": [
        "Remove all occurences of an element in a list"
      ]
    },
    {
      "cell_type": "code",
      "metadata": {
        "colab": {
          "base_uri": "https://localhost:8080/"
        },
        "id": "0hWc8RQNjUSa",
        "outputId": "53f7f056-0d90-435f-9292-75d23b71bf37"
      },
      "source": [
        "l = [1,2,3,3,3,4,5,6,6,7,3]\n",
        "x= int(input(\"element that needs to be removed= \"))\n",
        "res = [i for i in l if i != x]\n",
        "print(res)"
      ],
      "execution_count": null,
      "outputs": [
        {
          "output_type": "stream",
          "text": [
            "element that needs to be removed= 5\n",
            "[1, 2, 3, 3, 3, 4, 6, 6, 7, 3]\n"
          ],
          "name": "stdout"
        }
      ]
    },
    {
      "cell_type": "markdown",
      "metadata": {
        "id": "avlReWK5UzJ0"
      },
      "source": [
        "Check whether a string is a pangram."
      ]
    },
    {
      "cell_type": "code",
      "metadata": {
        "id": "pRSJiJAQjjhc",
        "colab": {
          "base_uri": "https://localhost:8080/"
        },
        "outputId": "ab3b9432-0e6c-4380-ffb6-fbc49aa92061"
      },
      "source": [
        "import string\n",
        "def pangram(str):\n",
        "  letters=string.ascii_letters\n",
        "  for i in letters:\n",
        "    if i not in str.lower():\n",
        "      return False\n",
        "    return True\n",
        "\n",
        "se = str(input(\"Give a string input = \"))\n",
        "if pangram(se) == True:\n",
        "  print(\"Given string is pangram\")\n",
        "else:\n",
        "  print(\"Not a pangram\")"
      ],
      "execution_count": 1,
      "outputs": [
        {
          "output_type": "stream",
          "text": [
            "Give a string input = abcdefghijklmnopqrstuvwxyz\n",
            "Given string is pangram\n"
          ],
          "name": "stdout"
        }
      ]
    },
    {
      "cell_type": "code",
      "metadata": {
        "id": "yJSFKbJAYUgR"
      },
      "source": [
        ""
      ],
      "execution_count": null,
      "outputs": []
    }
  ]
}