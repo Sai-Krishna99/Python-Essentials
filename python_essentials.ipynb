{
  "nbformat": 4,
  "nbformat_minor": 0,
  "metadata": {
    "colab": {
      "name": "python_essentials_assignment_1.ipynb",
      "provenance": [],
      "authorship_tag": "ABX9TyOelFVXoyx3tbhxubBsrzFT",
      "include_colab_link": true
    },
    "kernelspec": {
      "name": "python3",
      "display_name": "Python 3"
    },
    "language_info": {
      "name": "python"
    }
  },
  "cells": [
    {
      "cell_type": "markdown",
      "metadata": {
        "id": "view-in-github",
        "colab_type": "text"
      },
      "source": [
        "<a href=\"https://colab.research.google.com/github/Sai-Krishna99/Python-Essentials/blob/main/python_essentials.ipynb\" target=\"_parent\"><img src=\"https://colab.research.google.com/assets/colab-badge.svg\" alt=\"Open In Colab\"/></a>"
      ]
    },
    {
      "cell_type": "markdown",
      "metadata": {
        "id": "0xfBfWymk0y6"
      },
      "source": [
        "Day 1 assignment. Sort a list in descending order."
      ]
    },
    {
      "cell_type": "code",
      "metadata": {
        "id": "CO5E5xl0Wmjf",
        "colab": {
          "base_uri": "https://localhost:8080/"
        },
        "outputId": "02acdb55-08ae-4beb-f9f9-b34a9858ba2d"
      },
      "source": [
        "li= [int(i) for i in input(\"numbers=\").split()]\n",
        "li.sort(reverse=True)\n",
        "print(li)"
      ],
      "execution_count": 11,
      "outputs": [
        {
          "output_type": "stream",
          "text": [
            "numbers=10 34 5 1 34 9\n",
            "[34, 34, 10, 9, 5, 1]\n"
          ],
          "name": "stdout"
        }
      ]
    }
  ]
}
